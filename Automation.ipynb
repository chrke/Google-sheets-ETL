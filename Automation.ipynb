{
 "cells": [
  {
   "cell_type": "markdown",
   "metadata": {},
   "source": [
    "### Imports"
   ]
  },
  {
   "cell_type": "code",
   "execution_count": 1,
   "metadata": {
    "collapsed": false,
    "scrolled": false
   },
   "outputs": [],
   "source": [
    "# main library\n",
    "import gspread\n",
    "\n",
    "# authentication library that google drive API uses. This assumes that you have already set up a service account for google API\n",
    "from oauth2client.service_account import ServiceAccountCredentials\n",
    "\n",
    "# generic other imports\n",
    "import pandas as pd\n",
    "import numpy as np\n",
    "import itertools\n",
    "import math"
   ]
  },
  {
   "cell_type": "markdown",
   "metadata": {},
   "source": [
    "### Authenticating and logging in"
   ]
  },
  {
   "cell_type": "code",
   "execution_count": 2,
   "metadata": {
    "collapsed": false
   },
   "outputs": [],
   "source": [
    "# use credentials to create a client that interacts with the Google Drive API\n",
    "\n",
    "scope = [\n",
    "    'https://spreadsheets.google.com/feeds',\n",
    "    'https://www.googleapis.com/auth/drive'\n",
    "]\n",
    "headers = gspread.httpsession.HTTPSession(headers={'Connection':'Keep-Alive'})\n",
    "\n",
    "\n",
    "# client secret json is the key I got from Google API setup page\n",
    "# Can read more here https://www.twilio.com/blog/2017/02/an-easy-way-to-read-and-write-to-a-google-spreadsheet-in-python.html\n",
    "creds = ServiceAccountCredentials.from_json_keyfile_name('client_secret.json', scope)\n",
    "client = gspread.Client(auth = creds, http_session=headers)\n",
    "client.login()\n",
    "\n",
    "\n",
    "# Find a workbook by name and open the first sheet (sheet1 means the first sheet)\n",
    "# Make sure you use the right name here.\n",
    "\n",
    "# grab the first sheet\n",
    "sheet = client.open(\"Copy of Legislators 2017\").sheet1\n",
    "\n",
    "# grab other sheets as applicable"
   ]
  },
  {
   "cell_type": "markdown",
   "metadata": {},
   "source": [
    "### Read in the file that needs to be written\n",
    "\n",
    "### Construct ranges to batch update file"
   ]
  },
  {
   "cell_type": "code",
   "execution_count": 3,
   "metadata": {
    "collapsed": false
   },
   "outputs": [],
   "source": [
    "df = pd.read_csv(\"Active_List.csv\",header=None,encoding='ISO-8859-1').fillna(value=\"\")\n",
    "\n",
    "l = list(itertools.chain(*(df.values.tolist())))\n",
    "\n",
    "# batch update n rows at once\n",
    "n = 500\n",
    "\n",
    "rows = df.shape[0]\n",
    "cols = df.shape[1]\n",
    "split = math.ceil(df.shape[0]/n)\n",
    "\n",
    "# split list in ranges\n",
    "range_list = []\n",
    "diff = n*cols\n",
    "\n",
    "for it in range(0,split):\n",
    "    if (it != (split-1)):\n",
    "        range_start = it*diff\n",
    "        range_end = range_start + diff\n",
    "    else:\n",
    "        range_start = it*diff\n",
    "        range_end = len(l)\n",
    "    \n",
    "    ran = [range_start,range_end]\n",
    "    range_list.append(ran)"
   ]
  },
  {
   "cell_type": "code",
   "execution_count": 4,
   "metadata": {
    "collapsed": false
   },
   "outputs": [
    {
     "data": {
      "text/plain": [
       "[[0, 26000], [26000, 52000], [52000, 78000], [78000, 95368]]"
      ]
     },
     "execution_count": 4,
     "metadata": {},
     "output_type": "execute_result"
    }
   ],
   "source": [
    "range_list"
   ]
  },
  {
   "cell_type": "markdown",
   "metadata": {},
   "source": [
    "### Define function to get the final range of cells"
   ]
  },
  {
   "cell_type": "code",
   "execution_count": 5,
   "metadata": {
    "collapsed": true
   },
   "outputs": [],
   "source": [
    "def get_range(row,col):\n",
    "    from_range = 'A1'\n",
    "    if col <=26:\n",
    "        to = chr(col + ord('A')-1)\n",
    "    else:\n",
    "        diff = col - 26\n",
    "        to = 'A' + chr(ord('A')+diff-1)\n",
    "    to_range = to + str(row)\n",
    "    return (from_range + ':' + to_range)"
   ]
  },
  {
   "cell_type": "markdown",
   "metadata": {},
   "source": [
    "### Final piece of code"
   ]
  },
  {
   "cell_type": "code",
   "execution_count": 6,
   "metadata": {
    "collapsed": false
   },
   "outputs": [
    {
     "name": "stdout",
     "output_type": "stream",
     "text": [
      "Updating cells..\n",
      "Cells updated, starting batch update to google docs..\n",
      "Updating rows 0 to 500\n",
      "Updating rows 500 to 1000\n",
      "Updating rows 1000 to 1500\n",
      "Updating rows 1500 to 1834\n",
      "Success!\n"
     ]
    }
   ],
   "source": [
    "range_test = get_range(rows,cols)\n",
    "cell_list_test = sheet.range(range_test)\n",
    "\n",
    "print(\"Updating cells..\")\n",
    "\n",
    "for i in range(0,len(l)): \n",
    "    cell_list_test[i].value = l[i]\n",
    "    i += 1\n",
    "\n",
    "print (\"Cells updated, starting batch update to google docs..\")\n",
    "\n",
    "for iteration in range(0,len(range_list)):\n",
    "    print (\"Updating rows\",int(range_list[iteration][0]/cols),\"to\",int(range_list[iteration][1]/cols))\n",
    "    sheet.update_cells(cell_list_test[range_list[iteration][0]:range_list[iteration][1]])\n",
    "\n",
    "print(\"Success!\")"
   ]
  },
  {
   "cell_type": "markdown",
   "metadata": {},
   "source": [
    "### Other functionality"
   ]
  },
  {
   "cell_type": "code",
   "execution_count": null,
   "metadata": {
    "collapsed": false
   },
   "outputs": [],
   "source": [
    "# update a cell on a sheet\n",
    "sheet.update_cell(1,1,\"Writing to spreadsheet\")\n",
    "\n",
    "#creating a new spreadsheet\n",
    "sh = client.create('New Spreadsheet')\n",
    "\n",
    "#giving myself permission to view/edit the newly created sheet\n",
    "client.insert_permission(\n",
    "    sh.id,\n",
    "    'csathri@purestorage.com',\n",
    "    perm_type='user',\n",
    "    role='writer'\n",
    ")\n",
    "\n",
    "# selecting the first sheet\n",
    "sh1 = sh.sheet1\n",
    "\n",
    "#updating the first cell\n",
    "sh1.update_cell(1,1,\"works?\")"
   ]
  }
 ],
 "metadata": {
  "kernelspec": {
   "display_name": "Python 3",
   "language": "python",
   "name": "python3"
  },
  "language_info": {
   "codemirror_mode": {
    "name": "ipython",
    "version": 3
   },
   "file_extension": ".py",
   "mimetype": "text/x-python",
   "name": "python",
   "nbconvert_exporter": "python",
   "pygments_lexer": "ipython3",
   "version": "3.6.0"
  }
 },
 "nbformat": 4,
 "nbformat_minor": 1
}
